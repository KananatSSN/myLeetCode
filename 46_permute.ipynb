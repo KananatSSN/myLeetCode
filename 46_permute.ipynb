{
 "cells": [
  {
   "cell_type": "code",
   "execution_count": 8,
   "metadata": {},
   "outputs": [],
   "source": [
    "def generate_permutations(nums):\n",
    "    # Base case: if there's only one number, return it as a single permutation\n",
    "    if len(nums) == 1:\n",
    "        return [nums]\n",
    "    \n",
    "    # List to store all permutations\n",
    "    all_permutations = []\n",
    "    \n",
    "    # Iterate through each number in the list\n",
    "    for i in range(len(nums)):\n",
    "        print(f\"i = {i}\")\n",
    "        # Choose the current number\n",
    "        current = nums[i]\n",
    "        print(f\"current = {current}\")\n",
    "        # Create a new list without the current number\n",
    "        remaining = nums[:i] + nums[i+1:]\n",
    "        print(f\"remaining = {remaining}\")\n",
    "        # Recursively generate permutations for the remaining numbers\n",
    "        sub_permutations = generate_permutations(remaining)\n",
    "        print(f\"sub_permutations = {sub_permutations}\")\n",
    "        # Add the current number to the beginning of each sub-permutation\n",
    "        for sub_perm in sub_permutations:\n",
    "            all_permutations.append([current] + sub_perm)\n",
    "            print(f\"all_permutations = {all_permutations}\")\n",
    "    \n",
    "    return all_permutations"
   ]
  },
  {
   "cell_type": "code",
   "execution_count": 9,
   "metadata": {},
   "outputs": [
    {
     "name": "stdout",
     "output_type": "stream",
     "text": [
      "i = 0\n",
      "current = 1\n",
      "remaining = [2, 3]\n",
      "i = 0\n",
      "current = 2\n",
      "remaining = [3]\n",
      "sub_permutations = [[3]]\n",
      "all_permutations = [[2, 3]]\n",
      "i = 1\n",
      "current = 3\n",
      "remaining = [2]\n",
      "sub_permutations = [[2]]\n",
      "all_permutations = [[2, 3], [3, 2]]\n",
      "sub_permutations = [[2, 3], [3, 2]]\n",
      "all_permutations = [[1, 2, 3]]\n",
      "all_permutations = [[1, 2, 3], [1, 3, 2]]\n",
      "i = 1\n",
      "current = 2\n",
      "remaining = [1, 3]\n",
      "i = 0\n",
      "current = 1\n",
      "remaining = [3]\n",
      "sub_permutations = [[3]]\n",
      "all_permutations = [[1, 3]]\n",
      "i = 1\n",
      "current = 3\n",
      "remaining = [1]\n",
      "sub_permutations = [[1]]\n",
      "all_permutations = [[1, 3], [3, 1]]\n",
      "sub_permutations = [[1, 3], [3, 1]]\n",
      "all_permutations = [[1, 2, 3], [1, 3, 2], [2, 1, 3]]\n",
      "all_permutations = [[1, 2, 3], [1, 3, 2], [2, 1, 3], [2, 3, 1]]\n",
      "i = 2\n",
      "current = 3\n",
      "remaining = [1, 2]\n",
      "i = 0\n",
      "current = 1\n",
      "remaining = [2]\n",
      "sub_permutations = [[2]]\n",
      "all_permutations = [[1, 2]]\n",
      "i = 1\n",
      "current = 2\n",
      "remaining = [1]\n",
      "sub_permutations = [[1]]\n",
      "all_permutations = [[1, 2], [2, 1]]\n",
      "sub_permutations = [[1, 2], [2, 1]]\n",
      "all_permutations = [[1, 2, 3], [1, 3, 2], [2, 1, 3], [2, 3, 1], [3, 1, 2]]\n",
      "all_permutations = [[1, 2, 3], [1, 3, 2], [2, 1, 3], [2, 3, 1], [3, 1, 2], [3, 2, 1]]\n",
      "[[1, 2, 3], [1, 3, 2], [2, 1, 3], [2, 3, 1], [3, 1, 2], [3, 2, 1]]\n"
     ]
    }
   ],
   "source": [
    "nums = [1,2,3]\n",
    "print(generate_permutations(nums))"
   ]
  },
  {
   "cell_type": "code",
   "execution_count": null,
   "metadata": {},
   "outputs": [],
   "source": [
    "nums = [1,2,3]\n",
    "print(permute(nums))"
   ]
  }
 ],
 "metadata": {
  "kernelspec": {
   "display_name": "Python 3",
   "language": "python",
   "name": "python3"
  },
  "language_info": {
   "codemirror_mode": {
    "name": "ipython",
    "version": 3
   },
   "file_extension": ".py",
   "mimetype": "text/x-python",
   "name": "python",
   "nbconvert_exporter": "python",
   "pygments_lexer": "ipython3",
   "version": "3.11.4"
  }
 },
 "nbformat": 4,
 "nbformat_minor": 2
}
