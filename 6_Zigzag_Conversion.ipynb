{
 "cells": [
  {
   "cell_type": "code",
   "execution_count": 15,
   "metadata": {},
   "outputs": [],
   "source": [
    "def convert(s: str, numRows: int) -> str:\n",
    "    result = []\n",
    "\n",
    "    for i in range(len(s)):\n",
    "        if i%(numRows+1) == 0:\n",
    "            result.append(s[i])\n",
    "    for i in range(len(s)):\n",
    "        if i%(numRows-1) == 1:\n",
    "            result.append(s[i])\n",
    "    for i in range(len(s)):\n",
    "        if i%(numRows+1) == 2:\n",
    "            result.append(s[i])\n",
    "\n",
    "    return ''.join(result)"
   ]
  },
  {
   "cell_type": "code",
   "execution_count": 111,
   "metadata": {},
   "outputs": [],
   "source": [
    "def convert(s: str, numRows: int) -> str:\n",
    "\n",
    "    if len(s) == 1 or numRows == 1:\n",
    "        return s\n",
    "\n",
    "    result = []\n",
    "    for row in range(1, numRows+1):\n",
    "        for i in range(len(s)):\n",
    "            if i%(2*numRows-2) == row-1 or i%(2*numRows-2) == (2*numRows-2)-(row-1):\n",
    "                result.append(s[i])\n",
    "\n",
    "    return ''.join(result)"
   ]
  },
  {
   "cell_type": "code",
   "execution_count": 112,
   "metadata": {},
   "outputs": [
    {
     "name": "stdout",
     "output_type": "stream",
     "text": [
      "AB\n"
     ]
    }
   ],
   "source": [
    "# \n",
    "# 1 3 6 7 9 11 13\n",
    "# 2 6 10\n",
    "test_string = \"AB\"\n",
    "test_row = 1\n",
    "\n",
    "print(convert(test_string,test_row))"
   ]
  },
  {
   "cell_type": "code",
   "execution_count": 19,
   "metadata": {},
   "outputs": [
    {
     "name": "stdout",
     "output_type": "stream",
     "text": [
      "PLRPYAIHRNPAYPALISHIRING\n"
     ]
    }
   ],
   "source": [
    "test_string = \"PAYPALISHIRING\"\n",
    "test_row = 3\n",
    "\n",
    "print(convert(test_string,test_row))"
   ]
  }
 ],
 "metadata": {
  "kernelspec": {
   "display_name": "Python 3",
   "language": "python",
   "name": "python3"
  },
  "language_info": {
   "codemirror_mode": {
    "name": "ipython",
    "version": 3
   },
   "file_extension": ".py",
   "mimetype": "text/x-python",
   "name": "python",
   "nbconvert_exporter": "python",
   "pygments_lexer": "ipython3",
   "version": "3.11.4"
  }
 },
 "nbformat": 4,
 "nbformat_minor": 2
}
