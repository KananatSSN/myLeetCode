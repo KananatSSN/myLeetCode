{
 "cells": [
  {
   "cell_type": "code",
   "execution_count": null,
   "metadata": {},
   "outputs": [],
   "source": [
    "# asdfahusidf"
   ]
  },
  {
   "cell_type": "markdown",
   "metadata": {},
   "source": [
    "These solutions too slow!!"
   ]
  },
  {
   "cell_type": "code",
   "execution_count": 118,
   "metadata": {},
   "outputs": [],
   "source": [
    "def threeSum(nums) :\n",
    "    ans = []\n",
    "    exist_ans = []\n",
    "    for i in range(len(nums)) :\n",
    "        for j in range(i+1, len(nums)) :\n",
    "            num_k = - (nums[i] + nums[j])\n",
    "            if num_k in nums :\n",
    "                index_k = nums.index(num_k)\n",
    "                if i != index_k and j != index_k :\n",
    "                    potential_ans = set([nums[i],nums[j],num_k])\n",
    "                    if potential_ans not in exist_ans :\n",
    "                        ans.append([nums[i],nums[j],num_k])\n",
    "                        exist_ans.append(potential_ans)\n",
    "    return ans"
   ]
  },
  {
   "cell_type": "code",
   "execution_count": 120,
   "metadata": {},
   "outputs": [],
   "source": [
    "def threeSum(nums) :\n",
    "    ans = []\n",
    "    for i in range(len(nums)) :\n",
    "        for j in range(i+1, len(nums)) :\n",
    "            for k in range(j+1, len(nums)) :\n",
    "                if nums[i] + nums[j] + nums[k] == 0 :\n",
    "                    potential_ans = sorted([nums[i],nums[j],nums[k]])\n",
    "                    if potential_ans not in ans :\n",
    "                        ans.append(potential_ans)\n",
    "    return ans"
   ]
  },
  {
   "cell_type": "code",
   "execution_count": 116,
   "metadata": {},
   "outputs": [],
   "source": [
    "def threeSum(nums) :\n",
    "    nums.sort()\n",
    "    "
   ]
  },
  {
   "cell_type": "code",
   "execution_count": 121,
   "metadata": {},
   "outputs": [
    {
     "name": "stdout",
     "output_type": "stream",
     "text": [
      "[[-1, 0, 1], [-1, -1, 2]]\n"
     ]
    }
   ],
   "source": [
    "num = [-1,0,1,2,-1,-4]\n",
    "print(threeSum(num))"
   ]
  }
 ],
 "metadata": {
  "kernelspec": {
   "display_name": "Python 3",
   "language": "python",
   "name": "python3"
  },
  "language_info": {
   "codemirror_mode": {
    "name": "ipython",
    "version": 3
   },
   "file_extension": ".py",
   "mimetype": "text/x-python",
   "name": "python",
   "nbconvert_exporter": "python",
   "pygments_lexer": "ipython3",
   "version": "3.11.4"
  }
 },
 "nbformat": 4,
 "nbformat_minor": 2
}
