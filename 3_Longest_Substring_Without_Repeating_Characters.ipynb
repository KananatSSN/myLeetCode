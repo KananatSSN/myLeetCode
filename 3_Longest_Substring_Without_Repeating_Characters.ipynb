{
 "cells": [
  {
   "cell_type": "code",
   "execution_count": 79,
   "metadata": {},
   "outputs": [],
   "source": [
    "text = \"ckilbkd\"\n",
    "#Hi"
   ]
  },
  {
   "cell_type": "code",
   "execution_count": 80,
   "metadata": {},
   "outputs": [
    {
     "name": "stdout",
     "output_type": "stream",
     "text": [
      "c 0\n",
      "ck 2\n",
      "cki 3\n",
      "ckil 4\n",
      "ckilb 5\n",
      "ilbk 4\n",
      "ilbkd 5\n",
      "[1, 2, 3, 4, 5, 4, 5]\n"
     ]
    },
    {
     "data": {
      "text/plain": [
       "5"
      ]
     },
     "execution_count": 80,
     "metadata": {},
     "output_type": "execute_result"
    }
   ],
   "source": [
    "def lengthOfLongestSubstring(s: str) -> int:\n",
    "\n",
    "    if len(s) == 0:\n",
    "        return 0\n",
    "\n",
    "    substring_length_list = [1]\n",
    "    length_count = 0\n",
    "    substring = s[0]\n",
    "    print(substring, length_count)\n",
    "\n",
    "    for i in range(len(s)-1):\n",
    "        \n",
    "        if s[i+1] not in substring:\n",
    "            substring = substring + s[i+1]\n",
    "            length_count = len(substring)\n",
    "        elif s[i+1] in substring:\n",
    "            duplicate_index = substring.index(s[i+1])\n",
    "            substring = substring[duplicate_index+1:] + s[i+1]\n",
    "            length_count = len(substring)\n",
    "        substring_length_list.append(length_count)\n",
    "        print(substring, length_count)\n",
    "\n",
    "    print(substring_length_list)\n",
    "    return max(substring_length_list)\n",
    "\n",
    "lengthOfLongestSubstring(text)"
   ]
  }
 ],
 "metadata": {
  "kernelspec": {
   "display_name": "Python 3",
   "language": "python",
   "name": "python3"
  },
  "language_info": {
   "codemirror_mode": {
    "name": "ipython",
    "version": 3
   },
   "file_extension": ".py",
   "mimetype": "text/x-python",
   "name": "python",
   "nbconvert_exporter": "python",
   "pygments_lexer": "ipython3",
   "version": "3.11.4"
  }
 },
 "nbformat": 4,
 "nbformat_minor": 2
}
