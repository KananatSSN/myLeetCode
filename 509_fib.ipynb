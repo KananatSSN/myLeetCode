{
 "cells": [
  {
   "cell_type": "code",
   "execution_count": 6,
   "metadata": {},
   "outputs": [],
   "source": [
    "def fib(n) :\n",
    "    if n == 0:\n",
    "        return 0\n",
    "    if n == 1:\n",
    "        return 1\n",
    "    fib_list = [0, 1]\n",
    "    for i in range(n-1):\n",
    "        fib_list.append(fib_list[i] + fib_list[i+1])\n",
    "        print(fib_list)\n",
    "    return fib_list[-1]"
   ]
  },
  {
   "cell_type": "code",
   "execution_count": 17,
   "metadata": {},
   "outputs": [],
   "source": [
    "def fib(n) :\n",
    "    if n == 0:\n",
    "        return 0\n",
    "    if n == 1:\n",
    "        return 1\n",
    "    fib_list = [0, 1]\n",
    "    for i in range(n-1):\n",
    "        fib_list.append(fib_list[0] + fib_list[1])\n",
    "        print(fib_list)\n",
    "        fib_list.pop(0)\n",
    "    return fib_list[-1]"
   ]
  },
  {
   "cell_type": "code",
   "execution_count": 31,
   "metadata": {},
   "outputs": [],
   "source": [
    "def fib(n) :\n",
    "    if n <= 1:\n",
    "        return n\n",
    "    f_0, f_1 = 0, 1\n",
    "    for i in range(n-1):\n",
    "        f_0, f_1 = f_1, f_0 + f_1\n",
    "        #print(f_0, f_1)\n",
    "    return f_1"
   ]
  },
  {
   "cell_type": "code",
   "execution_count": 32,
   "metadata": {},
   "outputs": [
    {
     "name": "stdout",
     "output_type": "stream",
     "text": [
      "3\n"
     ]
    }
   ],
   "source": [
    "test = 4\n",
    "print(fib(test))"
   ]
  }
 ],
 "metadata": {
  "kernelspec": {
   "display_name": "Python 3",
   "language": "python",
   "name": "python3"
  },
  "language_info": {
   "codemirror_mode": {
    "name": "ipython",
    "version": 3
   },
   "file_extension": ".py",
   "mimetype": "text/x-python",
   "name": "python",
   "nbconvert_exporter": "python",
   "pygments_lexer": "ipython3",
   "version": "3.11.4"
  }
 },
 "nbformat": 4,
 "nbformat_minor": 2
}
