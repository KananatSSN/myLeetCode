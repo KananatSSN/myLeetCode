{
 "cells": [
  {
   "cell_type": "markdown",
   "metadata": {},
   "source": [
    "This problem has stupidiest test implementation I have ever seen (so far)\n",
    "These 2 solutions return the same thing but the test on leetcode.com mark the Solution 1 incorrect"
   ]
  },
  {
   "cell_type": "code",
   "execution_count": 47,
   "metadata": {},
   "outputs": [],
   "source": [
    "# Solution 1\n",
    "\n",
    "def removeElement(nums, val):\n",
    "    nums = [x for x in nums if x != val]\n",
    "    return len(nums), nums"
   ]
  },
  {
   "cell_type": "code",
   "execution_count": 45,
   "metadata": {},
   "outputs": [],
   "source": [
    "# Solution 2\n",
    "\n",
    "def removeElement(nums, val):\n",
    "    len_nums = len(nums)\n",
    "    remove_count = 0\n",
    "    for i in range(len(nums)):\n",
    "        if nums[i] == val:\n",
    "            len_nums -= 1\n",
    "            remove_count += 1\n",
    "    for j in range(remove_count):\n",
    "        nums.remove(val)\n",
    "    return len_nums, nums"
   ]
  },
  {
   "cell_type": "code",
   "execution_count": 48,
   "metadata": {},
   "outputs": [
    {
     "name": "stdout",
     "output_type": "stream",
     "text": [
      "(5, [0, 1, 3, 0, 4])\n"
     ]
    }
   ],
   "source": [
    "test = [0,1,2,2,3,0,4,2]\n",
    "print(removeElement(test, 2))"
   ]
  }
 ],
 "metadata": {
  "kernelspec": {
   "display_name": "Python 3",
   "language": "python",
   "name": "python3"
  },
  "language_info": {
   "codemirror_mode": {
    "name": "ipython",
    "version": 3
   },
   "file_extension": ".py",
   "mimetype": "text/x-python",
   "name": "python",
   "nbconvert_exporter": "python",
   "pygments_lexer": "ipython3",
   "version": "3.11.4"
  }
 },
 "nbformat": 4,
 "nbformat_minor": 2
}
