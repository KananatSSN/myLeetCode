{
 "cells": [
  {
   "cell_type": "code",
   "execution_count": 1,
   "metadata": {},
   "outputs": [],
   "source": [
    "def maxProduct(nums) :\n",
    "    max_num = 0\n",
    "    sub_max_num = 0\n",
    "    for i in range(len(nums)):\n",
    "        if nums[i] > sub_max_num:\n",
    "            sub_max_num = nums[i]\n",
    "        if sub_max_num > max_num:\n",
    "            max_num, sub_max_num = sub_max_num, max_num # swap\n",
    "    return (max_num-1)*(sub_max_num-1)"
   ]
  },
  {
   "cell_type": "code",
   "execution_count": 2,
   "metadata": {},
   "outputs": [
    {
     "name": "stdout",
     "output_type": "stream",
     "text": [
      "16\n"
     ]
    }
   ],
   "source": [
    "test = [1,5,4,5]\n",
    "print(maxProduct(test))"
   ]
  }
 ],
 "metadata": {
  "kernelspec": {
   "display_name": "Python 3",
   "language": "python",
   "name": "python3"
  },
  "language_info": {
   "codemirror_mode": {
    "name": "ipython",
    "version": 3
   },
   "file_extension": ".py",
   "mimetype": "text/x-python",
   "name": "python",
   "nbconvert_exporter": "python",
   "pygments_lexer": "ipython3",
   "version": "3.11.4"
  }
 },
 "nbformat": 4,
 "nbformat_minor": 2
}
