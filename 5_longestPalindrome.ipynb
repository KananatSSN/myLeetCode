{
 "cells": [
  {
   "cell_type": "code",
   "execution_count": null,
   "metadata": {},
   "outputs": [],
   "source": [
    "# test\n",
    "#test test"
   ]
  },
  {
   "cell_type": "code",
   "execution_count": 32,
   "metadata": {},
   "outputs": [],
   "source": [
    "s = \"babadeytjsdfijoaddb\""
   ]
  },
  {
   "cell_type": "markdown",
   "metadata": {},
   "source": [
    "## Time complexity O(n^3)"
   ]
  },
  {
   "cell_type": "code",
   "execution_count": 33,
   "metadata": {},
   "outputs": [
    {
     "name": "stdout",
     "output_type": "stream",
     "text": [
      "{'t', 'i', 'f', 'd', 'e', 'o', 'j', 'a', 's', 'y', 'b'}\n",
      "\n",
      ">> letter = t\n",
      "indexs = [7]\n",
      "\n",
      ">> letter = i\n",
      "indexs = [12]\n",
      "\n",
      ">> letter = f\n",
      "indexs = [11]\n",
      "\n",
      ">> letter = d\n",
      "indexs = [4, 10, 16, 17]\n",
      "start, end = 4, 17\n",
      "s = deytjsdfijoadd\n",
      "start, end = 4, 16\n",
      "s = deytjsdfijoad\n",
      "start, end = 4, 10\n",
      "s = deytjsd\n",
      "start, end = 10, 17\n",
      "s = dfijoadd\n",
      "start, end = 10, 16\n",
      "s = dfijoad\n",
      "start, end = 16, 17\n",
      "s = dd\n",
      "dd is a palindrome of lenght = 2\n",
      "\n",
      ">> letter = e\n",
      "indexs = [5]\n",
      "\n",
      ">> letter = o\n",
      "indexs = [14]\n",
      "\n",
      ">> letter = j\n",
      "indexs = [8, 13]\n",
      "start, end = 8, 13\n",
      "s = jsdfij\n",
      "\n",
      ">> letter = a\n",
      "indexs = [1, 3, 15]\n",
      "start, end = 1, 15\n",
      "s = abadeytjsdfijoa\n",
      "start, end = 1, 3\n",
      "s = aba\n",
      "aba is a palindrome of lenght = 3\n",
      "start, end = 3, 15\n",
      "s = adeytjsdfijoa\n",
      "\n",
      ">> letter = s\n",
      "indexs = [9]\n",
      "\n",
      ">> letter = y\n",
      "indexs = [6]\n",
      "\n",
      ">> letter = b\n",
      "indexs = [0, 2, 18]\n",
      "start, end = 0, 18\n",
      "s = babadeytjsdfijoaddb\n",
      "start, end = 0, 2\n",
      "s = bab\n",
      "bab is a palindrome of lenght = 3\n",
      "start, end = 2, 18\n",
      "s = badeytjsdfijoaddb\n",
      "\n",
      "longestPalindrome = aba\n"
     ]
    },
    {
     "data": {
      "text/plain": [
       "'aba'"
      ]
     },
     "execution_count": 33,
     "metadata": {},
     "output_type": "execute_result"
    }
   ],
   "source": [
    "def longestPalindrome(s) :\n",
    "    letters = set(s)\n",
    "    print(letters)\n",
    "    longest_len = 0\n",
    "    for letter in letters :\n",
    "        print(f\"\\n>> letter = {letter}\")\n",
    "        indexs = [i for i in range(len(s)) if s[i] == letter]\n",
    "        print(f\"indexs = {indexs}\")\n",
    "        for i in range(len(indexs)) :\n",
    "            start_index = indexs[i]\n",
    "\n",
    "            if indexs[i+1:] == [] :\n",
    "                palindrome_substring = letter\n",
    "                palindrome_len = 1\n",
    "                if palindrome_len > longest_len :\n",
    "                    longest_len = palindrome_len\n",
    "                    longest_palindrome = palindrome_substring\n",
    "                break\n",
    "\n",
    "            for end_index in indexs[i+1:][::-1] :\n",
    "                print(f\"start, end = {start_index}, {end_index}\")\n",
    "                print(f\"s = {s[start_index:end_index+1]}\")\n",
    "                if s[start_index:end_index+1] == s[start_index:end_index+1][::-1] :\n",
    "                    print(f\"{s[start_index:end_index+1]} is a palindrome of lenght = {end_index - start_index + 1}\")\n",
    "                    if end_index - start_index + 1 > longest_len :\n",
    "                        longest_len = end_index - start_index + 1\n",
    "                        longest_palindrome = s[start_index:end_index+1]\n",
    "                        break\n",
    "\n",
    "    print(f\"\\nlongestPalindrome = {longest_palindrome}\")\n",
    "    \n",
    "    return longest_palindrome\n",
    "\n",
    "\n",
    "\n",
    "longestPalindrome(s)"
   ]
  }
 ],
 "metadata": {
  "kernelspec": {
   "display_name": "Python 3",
   "language": "python",
   "name": "python3"
  },
  "language_info": {
   "codemirror_mode": {
    "name": "ipython",
    "version": 3
   },
   "file_extension": ".py",
   "mimetype": "text/x-python",
   "name": "python",
   "nbconvert_exporter": "python",
   "pygments_lexer": "ipython3",
   "version": "3.11.4"
  }
 },
 "nbformat": 4,
 "nbformat_minor": 2
}
