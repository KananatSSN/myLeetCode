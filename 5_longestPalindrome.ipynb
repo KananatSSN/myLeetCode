{
 "cells": [
  {
   "cell_type": "code",
   "execution_count": 1,
   "metadata": {},
   "outputs": [],
   "source": [
    "s = \"babadb\""
   ]
  },
  {
   "cell_type": "code",
   "execution_count": 31,
   "metadata": {},
   "outputs": [
    {
     "name": "stdout",
     "output_type": "stream",
     "text": [
      "{'d', 'b', 'a'}\n",
      "\n",
      ">> letter = d\n",
      "\n",
      ">> letter = b\n",
      "start, end = 0, 5\n",
      "s = babadb\n",
      "start, end = 0, 2\n",
      "s = bab\n",
      "bab is a palindrome of lenght = 3\n",
      "start, end = 2, 5\n",
      "s = badb\n",
      "\n",
      ">> letter = a\n",
      "start, end = 1, 3\n",
      "s = aba\n",
      "aba is a palindrome of lenght = 3\n",
      "\n",
      "longestPalindrome = bab\n"
     ]
    },
    {
     "data": {
      "text/plain": [
       "'bab'"
      ]
     },
     "execution_count": 31,
     "metadata": {},
     "output_type": "execute_result"
    }
   ],
   "source": [
    "def longestPalindrome(s) :\n",
    "    letters = set(s)\n",
    "    print(letters)\n",
    "    longest_len = 0\n",
    "    for letter in letters :\n",
    "        print(f\"\\n>> letter = {letter}\")\n",
    "        indexs = [i for i in range(len(s)) if s[i] == letter]\n",
    "        print(f\"indexs = {indexs}\")\n",
    "        for i in range(len(indexs)) :\n",
    "            start_index = indexs[i]\n",
    "\n",
    "            if indexs[i+1:] == [] :\n",
    "                palindrome_substring = letter\n",
    "                palindrome_len = 1\n",
    "                if palindrome_len > longest_len :\n",
    "                    longest_len = palindrome_len\n",
    "                    longest_palindrome = palindrome_substring\n",
    "                break\n",
    "\n",
    "            for end_index in indexs[i+1:][::-1] :\n",
    "                print(f\"start, end = {start_index}, {end_index}\")\n",
    "                print(f\"s = {s[start_index:end_index+1]}\")\n",
    "                if s[start_index:end_index+1] == s[start_index:end_index+1][::-1] :\n",
    "                    print(f\"{s[start_index:end_index+1]} is a palindrome of lenght = {end_index - start_index + 1}\")\n",
    "                    if end_index - start_index + 1 > longest_len :\n",
    "                        longest_len = end_index - start_index + 1\n",
    "                        longest_palindrome = s[start_index:end_index+1]\n",
    "                        break\n",
    "\n",
    "    print(f\"\\nlongestPalindrome = {longest_palindrome}\")\n",
    "    \n",
    "    return longest_palindrome\n",
    "\n",
    "\n",
    "\n",
    "longestPalindrome(s)"
   ]
  }
 ],
 "metadata": {
  "kernelspec": {
   "display_name": "Python 3",
   "language": "python",
   "name": "python3"
  },
  "language_info": {
   "codemirror_mode": {
    "name": "ipython",
    "version": 3
   },
   "file_extension": ".py",
   "mimetype": "text/x-python",
   "name": "python",
   "nbconvert_exporter": "python",
   "pygments_lexer": "ipython3",
   "version": "3.11.4"
  }
 },
 "nbformat": 4,
 "nbformat_minor": 2
}
