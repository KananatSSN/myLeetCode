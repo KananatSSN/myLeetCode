{
 "cells": [
  {
   "cell_type": "code",
   "execution_count": 12,
   "metadata": {},
   "outputs": [],
   "source": [
    "s = \"babadb\""
   ]
  },
  {
   "cell_type": "code",
   "execution_count": 29,
   "metadata": {},
   "outputs": [
    {
     "name": "stdout",
     "output_type": "stream",
     "text": [
      "{'b', 'd', 'a'}\n",
      "\n",
      ">> letter = b\n",
      "indexs = [0, 2, 5]\n",
      "0, 2, s = bab\n",
      "bab is a palindrome of lenght = 3\n",
      "0, 5, s = babadb\n",
      "2, 5, s = badb\n",
      "\n",
      ">> letter = d\n",
      "indexs = [4]\n",
      "\n",
      ">> letter = a\n",
      "indexs = [1, 3]\n",
      "1, 3, s = aba\n",
      "aba is a palindrome of lenght = 3\n"
     ]
    }
   ],
   "source": [
    "def longestPalindrome(s) :\n",
    "    letters = set(s)\n",
    "    print(letters)\n",
    "    longest_len = 0\n",
    "    for letter in letters :\n",
    "        print(f\"\\n>> letter = {letter}\")\n",
    "        indexs = [i for i in range(len(s)) if s[i] == letter]\n",
    "        print(f\"indexs = {indexs}\")\n",
    "        for i in range(len(indexs)) :\n",
    "            start_index = indexs[i]\n",
    "            for j in range(i+1, len(indexs)) :\n",
    "                end_index = indexs[j]\n",
    "                print(f\"{start_index}, {end_index}, s = {s[start_index:end_index+1]}\")\n",
    "                if s[start_index:end_index+1] == s[start_index:end_index+1][::-1] :\n",
    "                    if end_index - start_index + 1 > longest_len :\n",
    "                        longest_len = end_index - start_index + 1\n",
    "                        longest_palindrome = s[start_index:end_index+1]\n",
    "                    print(f\"{s[start_index:end_index+1]} is a palindrome of lenght = {end_index - start_index + 1}\")\n",
    "\n",
    "\n",
    "\n",
    "longestPalindrome(s)"
   ]
  },
  {
   "cell_type": "code",
   "execution_count": null,
   "metadata": {},
   "outputs": [],
   "source": [
    "    start_palindrome = 2\n",
    "    if s[start_palindrome+1:].find(s[start_palindrome]) != -1:\n",
    "        print(f\"start = {s[start_palindrome]} at index = {start_palindrome}\")\n",
    "        end_palindrome = s[start_palindrome+1:].find(s[start_palindrome])+start_palindrome+1\n",
    "        print(f\"end = {s[end_palindrome]} at index = {end_palindrome}\")\n",
    "        potential_palindrome = s[start_palindrome:end_palindrome+1]\n",
    "        print(potential_palindrome)"
   ]
  }
 ],
 "metadata": {
  "kernelspec": {
   "display_name": "Python 3",
   "language": "python",
   "name": "python3"
  },
  "language_info": {
   "codemirror_mode": {
    "name": "ipython",
    "version": 3
   },
   "file_extension": ".py",
   "mimetype": "text/x-python",
   "name": "python",
   "nbconvert_exporter": "python",
   "pygments_lexer": "ipython3",
   "version": "3.11.4"
  }
 },
 "nbformat": 4,
 "nbformat_minor": 2
}
