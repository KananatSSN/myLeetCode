{
 "cells": [
  {
   "cell_type": "code",
   "execution_count": 3,
   "metadata": {},
   "outputs": [],
   "source": [
    "s = \"babad\""
   ]
  },
  {
   "cell_type": "code",
   "execution_count": 36,
   "metadata": {},
   "outputs": [],
   "source": [
    "def longestPalindrome(s: str) -> str:\n",
    "    start_palindrome = 2\n",
    "    if s[start_palindrome+1:].find(s[start_palindrome]) != -1:\n",
    "        print(f\"start = {s[start_palindrome]} at index = {start_palindrome}\")\n",
    "        end_palindrome = s[start_palindrome+1:].find(s[start_palindrome])+start_palindrome+1\n",
    "        print(f\"end = {s[end_palindrome]} at index = {end_palindrome}\")\n",
    "        potential_palindrome = s[start_palindrome:end_palindrome+1]\n",
    "        print(potential_palindrome)\n",
    "\n",
    "longestPalindrome(s)"
   ]
  }
 ],
 "metadata": {
  "kernelspec": {
   "display_name": "Python 3",
   "language": "python",
   "name": "python3"
  },
  "language_info": {
   "codemirror_mode": {
    "name": "ipython",
    "version": 3
   },
   "file_extension": ".py",
   "mimetype": "text/x-python",
   "name": "python",
   "nbconvert_exporter": "python",
   "pygments_lexer": "ipython3",
   "version": "3.11.4"
  }
 },
 "nbformat": 4,
 "nbformat_minor": 2
}
