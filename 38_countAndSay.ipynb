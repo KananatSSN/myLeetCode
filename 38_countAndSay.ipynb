{
 "cells": [
  {
   "cell_type": "code",
   "execution_count": 9,
   "metadata": {},
   "outputs": [],
   "source": [
    "def countAndSay(n) :\n",
    "    if n == 1 :\n",
    "        return '1'\n",
    "    if n >= 1 :\n",
    "        tape = list(countAndSay(n-1))\n",
    "        count = 0\n",
    "        start = 0\n",
    "        for i in range(len(tape)) :\n",
    "            if tape[i] == tape[i+1] :\n",
    "        return \n"
   ]
  },
  {
   "cell_type": "code",
   "execution_count": 23,
   "metadata": {},
   "outputs": [],
   "source": [
    "def countAndSay_help(s):\n",
    "    tape = list(s)\n",
    "    count = 0\n",
    "    start = 0\n",
    "    end = 0\n",
    "    for i in range(len(tape)-1) :\n",
    "        if tape[i] == tape[i+1] :\n",
    "            count = count + 1\n",
    "        elif tape[i] != tape[i+1] :\n",
    "            end = start + count\n",
    "            print(tape[start:end+1])\n",
    "            start = end+1\n",
    "            count = 0"
   ]
  },
  {
   "cell_type": "code",
   "execution_count": 24,
   "metadata": {},
   "outputs": [
    {
     "name": "stdout",
     "output_type": "stream",
     "text": [
      "['1', '1', '1']\n",
      "['2', '2', '2']\n",
      "None\n"
     ]
    }
   ],
   "source": [
    "s = '111222555'\n",
    "print(countAndSay_help(s))"
   ]
  },
  {
   "cell_type": "code",
   "execution_count": 11,
   "metadata": {},
   "outputs": [
    {
     "name": "stdout",
     "output_type": "stream",
     "text": [
      "1\n"
     ]
    }
   ],
   "source": [
    "n = 5\n",
    "print(countAndSay(n))"
   ]
  }
 ],
 "metadata": {
  "kernelspec": {
   "display_name": "Python 3",
   "language": "python",
   "name": "python3"
  },
  "language_info": {
   "codemirror_mode": {
    "name": "ipython",
    "version": 3
   },
   "file_extension": ".py",
   "mimetype": "text/x-python",
   "name": "python",
   "nbconvert_exporter": "python",
   "pygments_lexer": "ipython3",
   "version": "3.11.4"
  }
 },
 "nbformat": 4,
 "nbformat_minor": 2
}
