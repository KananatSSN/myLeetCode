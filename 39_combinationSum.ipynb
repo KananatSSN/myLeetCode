{
 "cells": [
  {
   "cell_type": "code",
   "execution_count": null,
   "metadata": {},
   "outputs": [],
   "source": [
    "def combinationSum(candidates, target):\n",
    "    for i in range(len(candidates)):\n",
    "        if candidates[i] == target:\n",
    "            return [[candidates[i]]]\n",
    "        if candidates[i] < target:\n",
    "            return "
   ]
  }
 ],
 "metadata": {
  "language_info": {
   "name": "python"
  }
 },
 "nbformat": 4,
 "nbformat_minor": 2
}
